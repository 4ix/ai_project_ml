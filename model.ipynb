{
 "cells": [
  {
   "attachments": {},
   "cell_type": "markdown",
   "metadata": {},
   "source": [
    "# 1 .데이터 불러오기"
   ]
  },
  {
   "cell_type": "code",
   "execution_count": 1,
   "metadata": {},
   "outputs": [],
   "source": [
    "import pandas as pd\n",
    "df = pd.read_csv('./datas/train_df.csv', index_col=0)\n",
    "test = pd.read_csv('./datas/test_df.csv', index_col=0)\n",
    "test_original = pd.read_csv('./datas/test.csv')"
   ]
  },
  {
   "cell_type": "code",
   "execution_count": 30,
   "metadata": {},
   "outputs": [
    {
     "data": {
      "text/html": [
       "<div>\n",
       "<style scoped>\n",
       "    .dataframe tbody tr th:only-of-type {\n",
       "        vertical-align: middle;\n",
       "    }\n",
       "\n",
       "    .dataframe tbody tr th {\n",
       "        vertical-align: top;\n",
       "    }\n",
       "\n",
       "    .dataframe thead th {\n",
       "        text-align: right;\n",
       "    }\n",
       "</style>\n",
       "<table border=\"1\" class=\"dataframe\">\n",
       "  <thead>\n",
       "    <tr style=\"text-align: right;\">\n",
       "      <th></th>\n",
       "      <th>Survived</th>\n",
       "      <th>Pclass</th>\n",
       "      <th>Sex</th>\n",
       "      <th>Embarked</th>\n",
       "      <th>Title</th>\n",
       "      <th>AgeBand</th>\n",
       "      <th>Family</th>\n",
       "      <th>Alone</th>\n",
       "      <th>FareBand</th>\n",
       "    </tr>\n",
       "  </thead>\n",
       "  <tbody>\n",
       "    <tr>\n",
       "      <th>0</th>\n",
       "      <td>0</td>\n",
       "      <td>3</td>\n",
       "      <td>1</td>\n",
       "      <td>1</td>\n",
       "      <td>1</td>\n",
       "      <td>3</td>\n",
       "      <td>2</td>\n",
       "      <td>0</td>\n",
       "      <td>1</td>\n",
       "    </tr>\n",
       "    <tr>\n",
       "      <th>1</th>\n",
       "      <td>1</td>\n",
       "      <td>1</td>\n",
       "      <td>2</td>\n",
       "      <td>2</td>\n",
       "      <td>2</td>\n",
       "      <td>4</td>\n",
       "      <td>2</td>\n",
       "      <td>0</td>\n",
       "      <td>1</td>\n",
       "    </tr>\n",
       "    <tr>\n",
       "      <th>2</th>\n",
       "      <td>1</td>\n",
       "      <td>3</td>\n",
       "      <td>2</td>\n",
       "      <td>1</td>\n",
       "      <td>3</td>\n",
       "      <td>3</td>\n",
       "      <td>1</td>\n",
       "      <td>1</td>\n",
       "      <td>1</td>\n",
       "    </tr>\n",
       "    <tr>\n",
       "      <th>3</th>\n",
       "      <td>1</td>\n",
       "      <td>1</td>\n",
       "      <td>2</td>\n",
       "      <td>1</td>\n",
       "      <td>2</td>\n",
       "      <td>4</td>\n",
       "      <td>2</td>\n",
       "      <td>0</td>\n",
       "      <td>1</td>\n",
       "    </tr>\n",
       "    <tr>\n",
       "      <th>4</th>\n",
       "      <td>0</td>\n",
       "      <td>3</td>\n",
       "      <td>1</td>\n",
       "      <td>1</td>\n",
       "      <td>1</td>\n",
       "      <td>4</td>\n",
       "      <td>1</td>\n",
       "      <td>1</td>\n",
       "      <td>1</td>\n",
       "    </tr>\n",
       "  </tbody>\n",
       "</table>\n",
       "</div>"
      ],
      "text/plain": [
       "   Survived  Pclass  Sex  Embarked  Title  AgeBand  Family  Alone  FareBand\n",
       "0         0       3    1         1      1        3       2      0         1\n",
       "1         1       1    2         2      2        4       2      0         1\n",
       "2         1       3    2         1      3        3       1      1         1\n",
       "3         1       1    2         1      2        4       2      0         1\n",
       "4         0       3    1         1      1        4       1      1         1"
      ]
     },
     "execution_count": 30,
     "metadata": {},
     "output_type": "execute_result"
    }
   ],
   "source": [
    "df.head()"
   ]
  },
  {
   "cell_type": "code",
   "execution_count": 89,
   "metadata": {},
   "outputs": [
    {
     "data": {
      "text/html": [
       "<div>\n",
       "<style scoped>\n",
       "    .dataframe tbody tr th:only-of-type {\n",
       "        vertical-align: middle;\n",
       "    }\n",
       "\n",
       "    .dataframe tbody tr th {\n",
       "        vertical-align: top;\n",
       "    }\n",
       "\n",
       "    .dataframe thead th {\n",
       "        text-align: right;\n",
       "    }\n",
       "</style>\n",
       "<table border=\"1\" class=\"dataframe\">\n",
       "  <thead>\n",
       "    <tr style=\"text-align: right;\">\n",
       "      <th></th>\n",
       "      <th>Pclass</th>\n",
       "      <th>Sex</th>\n",
       "      <th>Embarked</th>\n",
       "      <th>Title</th>\n",
       "      <th>AgeBand</th>\n",
       "      <th>Family</th>\n",
       "      <th>Alone</th>\n",
       "      <th>FareBand</th>\n",
       "    </tr>\n",
       "  </thead>\n",
       "  <tbody>\n",
       "    <tr>\n",
       "      <th>0</th>\n",
       "      <td>3</td>\n",
       "      <td>1</td>\n",
       "      <td>3</td>\n",
       "      <td>1</td>\n",
       "      <td>4</td>\n",
       "      <td>1</td>\n",
       "      <td>1</td>\n",
       "      <td>1</td>\n",
       "    </tr>\n",
       "    <tr>\n",
       "      <th>1</th>\n",
       "      <td>3</td>\n",
       "      <td>2</td>\n",
       "      <td>1</td>\n",
       "      <td>2</td>\n",
       "      <td>5</td>\n",
       "      <td>2</td>\n",
       "      <td>0</td>\n",
       "      <td>1</td>\n",
       "    </tr>\n",
       "    <tr>\n",
       "      <th>2</th>\n",
       "      <td>2</td>\n",
       "      <td>1</td>\n",
       "      <td>3</td>\n",
       "      <td>1</td>\n",
       "      <td>7</td>\n",
       "      <td>1</td>\n",
       "      <td>1</td>\n",
       "      <td>1</td>\n",
       "    </tr>\n",
       "    <tr>\n",
       "      <th>3</th>\n",
       "      <td>3</td>\n",
       "      <td>1</td>\n",
       "      <td>1</td>\n",
       "      <td>1</td>\n",
       "      <td>3</td>\n",
       "      <td>1</td>\n",
       "      <td>1</td>\n",
       "      <td>1</td>\n",
       "    </tr>\n",
       "    <tr>\n",
       "      <th>4</th>\n",
       "      <td>3</td>\n",
       "      <td>2</td>\n",
       "      <td>1</td>\n",
       "      <td>2</td>\n",
       "      <td>3</td>\n",
       "      <td>3</td>\n",
       "      <td>0</td>\n",
       "      <td>1</td>\n",
       "    </tr>\n",
       "  </tbody>\n",
       "</table>\n",
       "</div>"
      ],
      "text/plain": [
       "   Pclass  Sex  Embarked  Title  AgeBand  Family  Alone  FareBand\n",
       "0       3    1         3      1        4       1      1         1\n",
       "1       3    2         1      2        5       2      0         1\n",
       "2       2    1         3      1        7       1      1         1\n",
       "3       3    1         1      1        3       1      1         1\n",
       "4       3    2         1      2        3       3      0         1"
      ]
     },
     "execution_count": 89,
     "metadata": {},
     "output_type": "execute_result"
    }
   ],
   "source": [
    "test.head()"
   ]
  },
  {
   "cell_type": "code",
   "execution_count": 6,
   "metadata": {},
   "outputs": [],
   "source": [
    "# 학습 세부 정보 X\n",
    "X = df.iloc[:,1:]\n",
    "\n",
    "# 학습 생존 여부 y\n",
    "y = df.iloc[:,0]\n"
   ]
  },
  {
   "attachments": {},
   "cell_type": "markdown",
   "metadata": {},
   "source": [
    "# 2. 학습 및 테스트 셋 준비"
   ]
  },
  {
   "cell_type": "code",
   "execution_count": 7,
   "metadata": {},
   "outputs": [
    {
     "data": {
      "image/png": "[encoded data removed]",
      "text/plain": [
       "<Figure size 1200x400 with 2 Axes>"
      ]
     },
     "metadata": {},
     "output_type": "display_data"
    }
   ],
   "source": [
    "from sklearn.model_selection import train_test_split, cross_val_score, StratifiedKFold\n",
    "import matplotlib.pyplot as plt\n",
    "from sklearn.preprocessing import StandardScaler\n",
    "\n",
    "ss = StandardScaler()\n",
    "scaled_X = pd.DataFrame(ss.fit_transform(X), columns=X.columns)\n",
    "\n",
    "fig, ax = plt.subplots(1, 2, figsize=(12,4))\n",
    "X.plot(kind='kde', title='Raw data', ax=ax[0])\n",
    "scaled_X.plot(kind='kde', title='StandardScaler', ax=ax[1])\n",
    "plt.show()\n",
    "\n",
    "X_train, X_test, y_train, y_test = train_test_split(X, y, test_size=0.25, random_state=0)"
   ]
  },
  {
   "cell_type": "code",
   "execution_count": 8,
   "metadata": {},
   "outputs": [
    {
     "name": "stdout",
     "output_type": "stream",
     "text": [
      "(668, 8) (668,)\n",
      "(223, 8) (223,)\n"
     ]
    }
   ],
   "source": [
    "# train_test_split으로 나눴을 때\n",
    "print(X_train.shape, y_train.shape)\n",
    "print(X_test.shape, y_test.shape)"
   ]
  },
  {
   "cell_type": "code",
   "execution_count": 9,
   "metadata": {},
   "outputs": [
    {
     "name": "stdout",
     "output_type": "stream",
     "text": [
      "(891, 8)\n",
      "(418, 8)\n"
     ]
    }
   ],
   "source": [
    "# 실제 test.csv 파일로 shape 확인\n",
    "print(X.shape)\n",
    "print(test.shape)"
   ]
  },
  {
   "attachments": {},
   "cell_type": "markdown",
   "metadata": {},
   "source": [
    "## 3-1. 로지스틱 회귀"
   ]
  },
  {
   "cell_type": "code",
   "execution_count": 32,
   "metadata": {},
   "outputs": [
    {
     "name": "stdout",
     "output_type": "stream",
     "text": [
      "Accuracy: 80.54 %\n",
      "Standard Deviation: 2.47 %\n"
     ]
    }
   ],
   "source": [
    "from sklearn.linear_model import LogisticRegression # 임포트\n",
    "classifier = LogisticRegression() # 객체 생성\n",
    "classifier.fit(X_train, y_train) # 학습\n",
    "\n",
    "y_pred = classifier.predict(X_test) # 테스트 셋 적용\n",
    "\n",
    "skf = StratifiedKFold(n_splits=10, shuffle=True)  # 계층별 교차 검증 설정\n",
    "\n",
    "accuracies = cross_val_score(estimator=classifier, X=X_train, y=y_train, cv=skf) # 정확도 계산\n",
    "\n",
    "print(\"Accuracy: {:.2f} %\".format(accuracies.mean()*100)) # 정확도 출력\n",
    "print(\"Standard Deviation: {:.2f} %\".format(accuracies.std()*100)) # 표준편차 출력"
   ]
  },
  {
   "cell_type": "code",
   "execution_count": 11,
   "metadata": {},
   "outputs": [
    {
     "data": {
      "text/html": [
       "<div>\n",
       "<style scoped>\n",
       "    .dataframe tbody tr th:only-of-type {\n",
       "        vertical-align: middle;\n",
       "    }\n",
       "\n",
       "    .dataframe tbody tr th {\n",
       "        vertical-align: top;\n",
       "    }\n",
       "\n",
       "    .dataframe thead th {\n",
       "        text-align: right;\n",
       "    }\n",
       "</style>\n",
       "<table border=\"1\" class=\"dataframe\">\n",
       "  <thead>\n",
       "    <tr style=\"text-align: right;\">\n",
       "      <th></th>\n",
       "      <th>Feature</th>\n",
       "      <th>Correlation</th>\n",
       "    </tr>\n",
       "  </thead>\n",
       "  <tbody>\n",
       "    <tr>\n",
       "      <th>1</th>\n",
       "      <td>Sex</td>\n",
       "      <td>2.065021</td>\n",
       "    </tr>\n",
       "    <tr>\n",
       "      <th>3</th>\n",
       "      <td>Title</td>\n",
       "      <td>0.476638</td>\n",
       "    </tr>\n",
       "    <tr>\n",
       "      <th>2</th>\n",
       "      <td>Embarked</td>\n",
       "      <td>0.146942</td>\n",
       "    </tr>\n",
       "    <tr>\n",
       "      <th>7</th>\n",
       "      <td>FareBand</td>\n",
       "      <td>0.109188</td>\n",
       "    </tr>\n",
       "    <tr>\n",
       "      <th>4</th>\n",
       "      <td>AgeBand</td>\n",
       "      <td>-0.239855</td>\n",
       "    </tr>\n",
       "    <tr>\n",
       "      <th>5</th>\n",
       "      <td>Family</td>\n",
       "      <td>-0.435765</td>\n",
       "    </tr>\n",
       "    <tr>\n",
       "      <th>6</th>\n",
       "      <td>Alone</td>\n",
       "      <td>-0.770335</td>\n",
       "    </tr>\n",
       "    <tr>\n",
       "      <th>0</th>\n",
       "      <td>Pclass</td>\n",
       "      <td>-0.903679</td>\n",
       "    </tr>\n",
       "  </tbody>\n",
       "</table>\n",
       "</div>"
      ],
      "text/plain": [
       "    Feature  Correlation\n",
       "1       Sex     2.065021\n",
       "3     Title     0.476638\n",
       "2  Embarked     0.146942\n",
       "7  FareBand     0.109188\n",
       "4   AgeBand    -0.239855\n",
       "5    Family    -0.435765\n",
       "6     Alone    -0.770335\n",
       "0    Pclass    -0.903679"
      ]
     },
     "execution_count": 11,
     "metadata": {},
     "output_type": "execute_result"
    }
   ],
   "source": [
    "coeff_df = pd.DataFrame(df.columns.delete(0))\n",
    "coeff_df.columns = ['Feature']\n",
    "coeff_df[\"Correlation\"] = pd.Series(classifier.coef_[0])\n",
    "\n",
    "coeff_df.sort_values(by='Correlation', ascending=False)"
   ]
  },
  {
   "attachments": {},
   "cell_type": "markdown",
   "metadata": {},
   "source": [
    "- 로지스틱 회귀(분류)에서 생존율에 영향을 끼치는 가장 큰 요인은 성별임"
   ]
  },
  {
   "attachments": {},
   "cell_type": "markdown",
   "metadata": {},
   "source": [
    "## 3-2. 결정 트리 분류"
   ]
  },
  {
   "cell_type": "code",
   "execution_count": 12,
   "metadata": {},
   "outputs": [
    {
     "name": "stdout",
     "output_type": "stream",
     "text": [
      "Accuracy: 79.94 %\n",
      "Standard Deviation: 3.40 %\n"
     ]
    }
   ],
   "source": [
    "from sklearn.tree import DecisionTreeClassifier # 임포트\n",
    "classifier = DecisionTreeClassifier() # 객체 생성\n",
    "classifier.fit(X_train, y_train) # 학습\n",
    "\n",
    "y_pred = classifier.predict(X_test) # 테스트 셋 적용\n",
    "\n",
    "skf = StratifiedKFold(n_splits=10, shuffle=True)  # 계층별 교차 검증 설정\n",
    "\n",
    "accuracies = cross_val_score(estimator=classifier, X=X_train, y=y_train, cv=skf) # 정확도 계산\n",
    "\n",
    "print(\"Accuracy: {:.2f} %\".format(accuracies.mean()*100)) # 정확도 출력\n",
    "print(\"Standard Deviation: {:.2f} %\".format(accuracies.std()*100)) # 표준편차 출력"
   ]
  },
  {
   "attachments": {},
   "cell_type": "markdown",
   "metadata": {},
   "source": [
    "## 3-3. 랜덤 포레스트"
   ]
  },
  {
   "cell_type": "code",
   "execution_count": 13,
   "metadata": {},
   "outputs": [
    {
     "name": "stdout",
     "output_type": "stream",
     "text": [
      "Accuracy: 80.09 %\n",
      "Standard Deviation: 6.25 %\n"
     ]
    }
   ],
   "source": [
    "from sklearn.ensemble import RandomForestClassifier # 임포트\n",
    "classifier = RandomForestClassifier(n_estimators=50) # 객체 생성\n",
    "classifier.fit(X_train, y_train) # 학습\n",
    "\n",
    "y_pred = classifier.predict(X_test) # 테스트 셋 적용\n",
    "\n",
    "skf = StratifiedKFold(n_splits=10, shuffle=True)  # 계층별 교차 검증 설정\n",
    "\n",
    "accuracies = cross_val_score(estimator=classifier, X=X_train, y=y_train, cv=skf) # 정확도 계산\n",
    "\n",
    "print(\"Accuracy: {:.2f} %\".format(accuracies.mean()*100)) # 정확도 출력\n",
    "print(\"Standard Deviation: {:.2f} %\".format(accuracies.std()*100)) # 표준편차 출력"
   ]
  },
  {
   "attachments": {},
   "cell_type": "markdown",
   "metadata": {},
   "source": [
    "## 3-4. 가우시안 나이브 베이즈 분류"
   ]
  },
  {
   "cell_type": "code",
   "execution_count": 14,
   "metadata": {},
   "outputs": [
    {
     "name": "stdout",
     "output_type": "stream",
     "text": [
      "Accuracy: 80.83 %\n",
      "Standard Deviation: 5.57 %\n"
     ]
    }
   ],
   "source": [
    "from sklearn.naive_bayes import GaussianNB # 임포트\n",
    "classifier = GaussianNB() # 객체 생성\n",
    "classifier.fit(X_train, y_train) # 학습\n",
    "\n",
    "y_pred = classifier.predict(X_test) # 테스트 셋 적용\n",
    "\n",
    "skf = StratifiedKFold(n_splits=10, shuffle=True)  # 계층별 교차 검증 설정\n",
    "\n",
    "accuracies = cross_val_score(estimator=classifier, X=X_train, y=y_train, cv=skf) # 정확도 계산\n",
    "\n",
    "print(\"Accuracy: {:.2f} %\".format(accuracies.mean()*100)) # 정확도 출력\n",
    "print(\"Standard Deviation: {:.2f} %\".format(accuracies.std()*100)) # 표준편차 출력"
   ]
  },
  {
   "attachments": {},
   "cell_type": "markdown",
   "metadata": {},
   "source": [
    "## 3-5. k-최근접 이웃"
   ]
  },
  {
   "cell_type": "code",
   "execution_count": 15,
   "metadata": {},
   "outputs": [],
   "source": [
    "import warnings\n",
    "\n",
    "# 경고 메시지를 무시하고 숨기거나\n",
    "warnings.filterwarnings(action='ignore')"
   ]
  },
  {
   "cell_type": "code",
   "execution_count": 16,
   "metadata": {},
   "outputs": [
    {
     "name": "stdout",
     "output_type": "stream",
     "text": [
      "Accuracy: 78.46 %\n",
      "Standard Deviation: 4.45 %\n"
     ]
    }
   ],
   "source": [
    "from sklearn.neighbors import KNeighborsClassifier # 임포트\n",
    "classifier = KNeighborsClassifier() # 객체 생성\n",
    "classifier.fit(X_train, y_train) # 학습\n",
    "\n",
    "y_pred = classifier.predict(X_test) # 테스트 셋 적용\n",
    "\n",
    "skf = StratifiedKFold(n_splits=10, shuffle=True)  # 계층별 교차 검증 설정\n",
    "\n",
    "accuracies = cross_val_score(estimator=classifier, X=X_train, y=y_train, cv=skf) # 정확도 계산\n",
    "\n",
    "print(\"Accuracy: {:.2f} %\".format(accuracies.mean()*100)) # 정확도 출력\n",
    "print(\"Standard Deviation: {:.2f} %\".format(accuracies.std()*100)) # 표준편차 출력"
   ]
  },
  {
   "attachments": {},
   "cell_type": "markdown",
   "metadata": {},
   "source": [
    "## 3-6. 에이다 부스트"
   ]
  },
  {
   "cell_type": "code",
   "execution_count": 17,
   "metadata": {},
   "outputs": [
    {
     "name": "stdout",
     "output_type": "stream",
     "text": [
      "Accuracy: 81.88 %\n",
      "Standard Deviation: 4.77 %\n"
     ]
    }
   ],
   "source": [
    "from sklearn.ensemble import AdaBoostClassifier # 임포트\n",
    "classifier = AdaBoostClassifier() # 객체 생성\n",
    "classifier.fit(X_train, y_train) # 학습\n",
    "\n",
    "y_pred = classifier.predict(X_test) # 테스트 셋 적용\n",
    "\n",
    "skf = StratifiedKFold(n_splits=10, shuffle=True)  # 계층별 교차 검증 설정\n",
    "\n",
    "accuracies = cross_val_score(estimator=classifier, X=X_train, y=y_train, cv=skf) # 정확도 계산\n",
    "\n",
    "print(\"Accuracy: {:.2f} %\".format(accuracies.mean()*100)) # 정확도 출력\n",
    "print(\"Standard Deviation: {:.2f} %\".format(accuracies.std()*100)) # 표준편차 출력"
   ]
  },
  {
   "attachments": {},
   "cell_type": "markdown",
   "metadata": {},
   "source": [
    "## 3-7. 이차 판별 분석 분류"
   ]
  },
  {
   "cell_type": "code",
   "execution_count": 18,
   "metadata": {},
   "outputs": [
    {
     "name": "stdout",
     "output_type": "stream",
     "text": [
      "Accuracy: 81.75 %\n",
      "Standard Deviation: 4.86 %\n"
     ]
    }
   ],
   "source": [
    "from sklearn.discriminant_analysis import QuadraticDiscriminantAnalysis # 임포트\n",
    "classifier = QuadraticDiscriminantAnalysis() # 객체 생성\n",
    "classifier.fit(X_train, y_train) # 학습\n",
    "\n",
    "y_pred = classifier.predict(X_test) # 테스트 셋 적용\n",
    "\n",
    "skf = StratifiedKFold(n_splits=10, shuffle=True)  # 계층별 교차 검증 설정\n",
    "\n",
    "accuracies = cross_val_score(estimator=classifier, X=X_train, y=y_train, cv=skf) # 정확도 계산\n",
    "\n",
    "print(\"Accuracy: {:.2f} %\".format(accuracies.mean()*100)) # 정확도 출력\n",
    "print(\"Standard Deviation: {:.2f} %\".format(accuracies.std()*100)) # 표준편차 출력"
   ]
  },
  {
   "attachments": {},
   "cell_type": "markdown",
   "metadata": {},
   "source": [
    "## 3-8. 서포트 벡터 머신"
   ]
  },
  {
   "cell_type": "code",
   "execution_count": 19,
   "metadata": {},
   "outputs": [
    {
     "name": "stdout",
     "output_type": "stream",
     "text": [
      "Accuracy: 80.52 %\n",
      "Standard Deviation: 4.45 %\n"
     ]
    }
   ],
   "source": [
    "from sklearn.svm import SVC # 임포트\n",
    "classifier = SVC(kernel='linear') # 객체 생성\n",
    "classifier.fit(X_train, y_train) # 학습\n",
    "\n",
    "y_pred = classifier.predict(X_test) # 테스트 셋 적용\n",
    "\n",
    "skf = StratifiedKFold(n_splits=10, shuffle=True)  # 계층별 교차 검증 설정\n",
    "\n",
    "accuracies = cross_val_score(estimator=classifier, X=X_train, y=y_train, cv=skf) # 정확도 계산\n",
    "\n",
    "print(\"Accuracy: {:.2f} %\".format(accuracies.mean()*100)) # 정확도 출력\n",
    "print(\"Standard Deviation: {:.2f} %\".format(accuracies.std()*100)) # 표준편차 출력"
   ]
  },
  {
   "attachments": {},
   "cell_type": "markdown",
   "metadata": {},
   "source": [
    "## 3-9. 서포트 벡터 머신(RBF 커널)"
   ]
  },
  {
   "cell_type": "code",
   "execution_count": 20,
   "metadata": {},
   "outputs": [
    {
     "name": "stdout",
     "output_type": "stream",
     "text": [
      "Accuracy: 82.65 %\n",
      "Standard Deviation: 4.64 %\n"
     ]
    }
   ],
   "source": [
    "from sklearn.svm import SVC # 임포트\n",
    "classifier = SVC(kernel='rbf') # 객체 생성\n",
    "classifier.fit(X_train, y_train) # 학습\n",
    "\n",
    "y_pred = classifier.predict(X_test) # 테스트 셋 적용\n",
    "\n",
    "skf = StratifiedKFold(n_splits=10, shuffle=True)  # 계층별 교차 검증 설정\n",
    "\n",
    "accuracies = cross_val_score(estimator=classifier, X=X_train, y=y_train, cv=skf) # 정확도 계산\n",
    "\n",
    "print(\"Accuracy: {:.2f} %\".format(accuracies.mean()*100)) # 정확도 출력\n",
    "print(\"Standard Deviation: {:.2f} %\".format(accuracies.std()*100)) # 표준편차 출력"
   ]
  },
  {
   "attachments": {},
   "cell_type": "markdown",
   "metadata": {},
   "source": [
    "## 3-10. 보팅 분류기"
   ]
  },
  {
   "cell_type": "code",
   "execution_count": 21,
   "metadata": {},
   "outputs": [
    {
     "name": "stdout",
     "output_type": "stream",
     "text": [
      "Accuracy: 83.37 %\n",
      "Standard Deviation: 4.30 %\n"
     ]
    }
   ],
   "source": [
    "from sklearn.ensemble import VotingClassifier # 임포트\n",
    "clf1 = AdaBoostClassifier()\n",
    "clf2 = RandomForestClassifier()\n",
    "clf3 = SVC(kernel='linear')\n",
    "classifier = VotingClassifier(estimators=[('lr', clf1), ('rf', clf2), ('gnb', clf3)]) # 객체 생성\n",
    "classifier.fit(X_train, y_train) # 학습\n",
    "\n",
    "y_pred = classifier.predict(X_test) # 테스트 셋 적용\n",
    "\n",
    "skf = StratifiedKFold(n_splits=10, shuffle=True)  # 계층별 교차 검증 설정\n",
    "\n",
    "accuracies = cross_val_score(estimator=classifier, X=X_train, y=y_train, cv=skf) # 정확도 계산\n",
    "\n",
    "print(\"Accuracy: {:.2f} %\".format(accuracies.mean()*100)) # 정확도 출력\n",
    "print(\"Standard Deviation: {:.2f} %\".format(accuracies.std()*100)) # 표준편차 출력"
   ]
  },
  {
   "attachments": {},
   "cell_type": "markdown",
   "metadata": {},
   "source": [
    "## 3-11. 배깅 분류기"
   ]
  },
  {
   "cell_type": "code",
   "execution_count": 22,
   "metadata": {},
   "outputs": [
    {
     "name": "stdout",
     "output_type": "stream",
     "text": [
      "Accuracy: 83.10 %\n",
      "Standard Deviation: 4.55 %\n"
     ]
    }
   ],
   "source": [
    "from sklearn.ensemble import BaggingClassifier # 임포트\n",
    "classifier = BaggingClassifier(base_estimator=SVC(kernel='rbf'), n_estimators=10) # 객체 생성\n",
    "classifier.fit(X_train, y_train) # 학습\n",
    "\n",
    "y_pred = classifier.predict(X_test) # 테스트 셋 적용\n",
    "\n",
    "skf = StratifiedKFold(n_splits=10, shuffle=True)  # 계층별 교차 검증 설정\n",
    "\n",
    "accuracies = cross_val_score(estimator=classifier, X=X_train, y=y_train, cv=skf) # 정확도 계산\n",
    "\n",
    "print(\"Accuracy: {:.2f} %\".format(accuracies.mean()*100)) # 정확도 출력\n",
    "print(\"Standard Deviation: {:.2f} %\".format(accuracies.std()*100)) # 표준편차 출력"
   ]
  },
  {
   "attachments": {},
   "cell_type": "markdown",
   "metadata": {},
   "source": [
    "## ※. 알고리즘 성능 비교"
   ]
  },
  {
   "cell_type": "code",
   "execution_count": 26,
   "metadata": {},
   "outputs": [
    {
     "name": "stdout",
     "output_type": "stream",
     "text": [
      "Mean accuracy of LR : 80.54 %\n",
      "Mean accuracy of D_tree : 79.34 %\n",
      "Mean accuracy of RF : 79.65 %\n",
      "Mean accuracy of GNB : 80.40 %\n",
      "Mean accuracy of KNN : 81.15 %\n",
      "Mean accuracy of Ada : 80.40 %\n",
      "Mean accuracy of QDA : 82.78 %\n",
      "Mean accuracy of SVM_l : 82.80 %\n",
      "Mean accuracy of SVM_k : 80.83 %\n",
      "Mean accuracy of Voting : 82.77 %\n",
      "Mean accuracy of Bagging : 80.09 %\n"
     ]
    },
    {
     "data": {
      "image/png": "[encoded data removed]",
      "text/plain": [
       "<Figure size 1000x500 with 1 Axes>"
      ]
     },
     "metadata": {},
     "output_type": "display_data"
    },
    {
     "data": {
      "image/png": "[encoded data removed]",
      "text/plain": [
       "<Figure size 1000x500 with 1 Axes>"
      ]
     },
     "metadata": {},
     "output_type": "display_data"
    }
   ],
   "source": [
    "# 분류기 지정\n",
    "classifiers = [LogisticRegression(), DecisionTreeClassifier(), RandomForestClassifier(), GaussianNB(), KNeighborsClassifier(), SVC(kernel='linear'), SVC(kernel='rbf'), AdaBoostClassifier(), QuadraticDiscriminantAnalysis(), VotingClassifier(estimators=[('1', AdaBoostClassifier()), ('2', RandomForestClassifier()), ('3', SVC(kernel='linear'))]), BaggingClassifier(base_estimator=clf3, n_estimators=10, random_state=0)]\n",
    "\n",
    "# 분류기 이름 지정\n",
    "classifier_names = ['LR','D_tree', 'RF', 'GNB', 'KNN', 'Ada', 'QDA', 'SVM_l', 'SVM_k', 'Voting', 'Bagging']\n",
    "\n",
    "# 리스트 생성\n",
    "modelaccuracies, modelmeans, modelnames = [], [], []\n",
    "\n",
    "classifier_data = zip(classifier_names, classifiers)\n",
    "for classifier_name, classifier in classifier_data:\n",
    "    skf = StratifiedKFold(n_splits=10, shuffle=True) # 계층별 교차 검증 설정\n",
    "    accuracies = cross_val_score(classifier, X=X_train, y=y_train, cv=skf) # 정확도 계산\n",
    "    print(\"Mean accuracy of\", classifier_name, \": {:.2f} %\".format(accuracies.mean()*100)) # 평균값 출력\n",
    "\n",
    "    # 결과 저장\n",
    "    modelaccuracies.append(accuracies)\n",
    "    modelnames.append(classifier_name)\n",
    "    modelmeans.append(accuracies.mean()*100)  \n",
    "\n",
    "# 평균값 그래프 출력\n",
    "plt.figure(figsize=(10,5))    \n",
    "plt.ylim([60, 80])\n",
    "plt.bar(modelnames, modelmeans)\n",
    "\n",
    "# 박스 그래프 출력\n",
    "fig = plt.figure(figsize=(10,5))\n",
    "ax = fig.add_subplot(111)\n",
    "ax.boxplot(modelaccuracies)\n",
    "ax.set_xticklabels(modelnames)\n",
    "plt.show()"
   ]
  },
  {
   "attachments": {},
   "cell_type": "markdown",
   "metadata": {},
   "source": [
    "## 4. 테스트 세트 생존 확률 예측(LR)"
   ]
  },
  {
   "cell_type": "code",
   "execution_count": 33,
   "metadata": {},
   "outputs": [
    {
     "name": "stdout",
     "output_type": "stream",
     "text": [
      "[[0.9  0.1 ]\n",
      " [0.46 0.54]\n",
      " [0.88 0.12]\n",
      " [0.9  0.1 ]\n",
      " [0.45 0.55]\n",
      " [0.88 0.12]\n",
      " [0.3  0.7 ]\n",
      " [0.81 0.19]\n",
      " [0.33 0.67]\n",
      " [0.91 0.09]\n",
      " [0.9  0.1 ]\n",
      " [0.71 0.29]\n",
      " [0.08 0.92]\n",
      " [0.88 0.12]\n",
      " [0.12 0.88]\n",
      " [0.15 0.85]\n",
      " [0.78 0.22]\n",
      " [0.89 0.11]\n",
      " [0.24 0.76]\n",
      " [0.5  0.5 ]\n",
      " [0.66 0.34]\n",
      " [0.5  0.5 ]\n",
      " [0.13 0.87]\n",
      " [0.48 0.52]\n",
      " [0.31 0.69]\n",
      " [0.93 0.07]\n",
      " [0.04 0.96]\n",
      " [0.89 0.11]\n",
      " [0.71 0.29]\n",
      " [0.9  0.1 ]\n",
      " [0.85 0.15]\n",
      " [0.81 0.19]\n",
      " [0.61 0.39]\n",
      " [0.61 0.39]\n",
      " [0.54 0.46]\n",
      " [0.86 0.14]\n",
      " [0.31 0.69]\n",
      " [0.31 0.69]\n",
      " [0.9  0.1 ]\n",
      " [0.9  0.1 ]\n",
      " [0.9  0.1 ]\n",
      " [0.6  0.4 ]\n",
      " [0.94 0.06]\n",
      " [0.27 0.73]\n",
      " [0.12 0.88]\n",
      " [0.9  0.1 ]\n",
      " [0.68 0.32]\n",
      " [0.87 0.13]\n",
      " [0.21 0.79]\n",
      " [0.51 0.49]\n",
      " [0.52 0.48]\n",
      " [0.76 0.24]\n",
      " [0.24 0.76]\n",
      " [0.2  0.8 ]\n",
      " [0.76 0.24]\n",
      " [0.84 0.16]\n",
      " [0.92 0.08]\n",
      " [0.9  0.1 ]\n",
      " [0.87 0.13]\n",
      " [0.06 0.94]\n",
      " [0.88 0.12]\n",
      " [0.83 0.17]\n",
      " [0.88 0.12]\n",
      " [0.25 0.75]\n",
      " [0.34 0.66]\n",
      " [0.27 0.73]\n",
      " [0.21 0.79]\n",
      " [0.71 0.29]\n",
      " [0.63 0.37]\n",
      " [0.51 0.49]\n",
      " [0.25 0.75]\n",
      " [0.9  0.1 ]\n",
      " [0.37 0.63]\n",
      " [0.57 0.43]\n",
      " [0.06 0.94]\n",
      " [0.57 0.43]\n",
      " [0.9  0.1 ]\n",
      " [0.21 0.79]\n",
      " [0.83 0.17]\n",
      " [0.25 0.75]\n",
      " [0.57 0.43]\n",
      " [0.74 0.26]\n",
      " [0.76 0.24]\n",
      " [0.9  0.1 ]\n",
      " [0.74 0.26]\n",
      " [0.85 0.15]\n",
      " [0.25 0.75]\n",
      " [0.26 0.74]\n",
      " [0.25 0.75]\n",
      " [0.38 0.62]\n",
      " [0.34 0.66]\n",
      " [0.9  0.1 ]\n",
      " [0.17 0.83]\n",
      " [0.9  0.1 ]\n",
      " [0.57 0.43]\n",
      " [0.9  0.1 ]\n",
      " [0.22 0.78]\n",
      " [0.92 0.08]\n",
      " [0.31 0.69]\n",
      " [0.92 0.08]\n",
      " [0.11 0.89]\n",
      " [0.73 0.27]\n",
      " [0.87 0.13]\n",
      " [0.9  0.1 ]\n",
      " [0.35 0.65]\n",
      " [0.9  0.1 ]\n",
      " [0.87 0.13]\n",
      " [0.87 0.13]\n",
      " [0.9  0.1 ]\n",
      " [0.75 0.25]\n",
      " [0.84 0.16]\n",
      " [0.25 0.75]\n",
      " [0.08 0.92]\n",
      " [0.21 0.79]\n",
      " [0.15 0.85]\n",
      " [0.82 0.18]\n",
      " [0.89 0.11]\n",
      " [0.24 0.76]\n",
      " [0.63 0.37]\n",
      " [0.21 0.79]\n",
      " [0.13 0.87]\n",
      " [0.83 0.17]\n",
      " [0.09 0.91]\n",
      " [0.9  0.1 ]\n",
      " [0.87 0.13]\n",
      " [0.2  0.8 ]\n",
      " [0.9  0.1 ]\n",
      " [0.27 0.73]\n",
      " [0.86 0.14]\n",
      " [0.9  0.1 ]\n",
      " [0.92 0.08]\n",
      " [0.29 0.71]\n",
      " [0.71 0.29]\n",
      " [0.85 0.15]\n",
      " [0.94 0.06]\n",
      " [0.9  0.1 ]\n",
      " [0.89 0.11]\n",
      " [0.79 0.21]\n",
      " [0.31 0.69]\n",
      " [0.99 0.01]\n",
      " [0.78 0.22]\n",
      " [0.08 0.92]\n",
      " [0.88 0.12]\n",
      " [0.79 0.21]\n",
      " [0.71 0.29]\n",
      " [0.95 0.05]\n",
      " [0.6  0.4 ]\n",
      " [0.9  0.1 ]\n",
      " [0.6  0.4 ]\n",
      " [0.44 0.56]\n",
      " [0.07 0.93]\n",
      " [0.89 0.11]\n",
      " [0.96 0.04]\n",
      " [0.51 0.49]\n",
      " [0.92 0.08]\n",
      " [0.9  0.1 ]\n",
      " [0.07 0.93]\n",
      " [0.31 0.69]\n",
      " [0.71 0.29]\n",
      " [0.45 0.55]\n",
      " [0.25 0.75]\n",
      " [0.57 0.43]\n",
      " [0.16 0.84]\n",
      " [0.9  0.1 ]\n",
      " [0.47 0.53]\n",
      " [0.45 0.55]\n",
      " [0.73 0.27]\n",
      " [0.95 0.05]\n",
      " [0.12 0.88]\n",
      " [0.31 0.69]\n",
      " [0.9  0.1 ]\n",
      " [0.89 0.11]\n",
      " [0.87 0.13]\n",
      " [0.89 0.11]\n",
      " [0.99 0.01]\n",
      " [0.14 0.86]\n",
      " [0.16 0.84]\n",
      " [0.66 0.34]\n",
      " [0.39 0.61]\n",
      " [0.23 0.77]\n",
      " [0.83 0.17]\n",
      " [0.65 0.35]\n",
      " [0.06 0.94]\n",
      " [0.87 0.13]\n",
      " [0.08 0.92]\n",
      " [0.86 0.14]\n",
      " [0.12 0.88]\n",
      " [0.89 0.11]\n",
      " [0.94 0.06]\n",
      " [0.86 0.14]\n",
      " [0.77 0.23]\n",
      " [0.6  0.4 ]\n",
      " [0.66 0.34]\n",
      " [0.88 0.12]\n",
      " [0.38 0.62]\n",
      " [0.92 0.08]\n",
      " [0.16 0.84]\n",
      " [0.26 0.74]\n",
      " [0.79 0.21]\n",
      " [0.48 0.52]\n",
      " [0.25 0.75]\n",
      " [0.6  0.4 ]\n",
      " [0.15 0.85]\n",
      " [0.11 0.89]\n",
      " [0.79 0.21]\n",
      " [0.57 0.43]\n",
      " [0.3  0.7 ]\n",
      " [0.79 0.21]\n",
      " [0.08 0.92]\n",
      " [0.9  0.1 ]\n",
      " [0.92 0.08]\n",
      " [0.9  0.1 ]\n",
      " [0.75 0.25]\n",
      " [0.36 0.64]\n",
      " [0.78 0.22]\n",
      " [0.71 0.29]\n",
      " [0.25 0.75]\n",
      " [0.76 0.24]\n",
      " [0.16 0.84]\n",
      " [0.9  0.1 ]\n",
      " [0.13 0.87]\n",
      " [0.9  0.1 ]\n",
      " [0.23 0.77]\n",
      " [0.9  0.1 ]\n",
      " [0.18 0.82]\n",
      " [0.47 0.53]\n",
      " [0.9  0.1 ]\n",
      " [0.25 0.75]\n",
      " [0.94 0.06]\n",
      " [0.83 0.17]\n",
      " [0.75 0.25]\n",
      " [0.07 0.93]\n",
      " [0.87 0.13]\n",
      " [0.87 0.13]\n",
      " [0.6  0.4 ]\n",
      " [0.9  0.1 ]\n",
      " [0.71 0.29]\n",
      " [0.89 0.11]\n",
      " [0.14 0.86]\n",
      " [0.12 0.88]\n",
      " [0.18 0.82]\n",
      " [0.35 0.65]\n",
      " [0.68 0.32]\n",
      " [0.9  0.1 ]\n",
      " [0.7  0.3 ]\n",
      " [0.64 0.36]\n",
      " [0.23 0.77]\n",
      " [0.87 0.13]\n",
      " [0.21 0.79]\n",
      " [0.36 0.64]\n",
      " [0.16 0.84]\n",
      " [0.9  0.1 ]\n",
      " [0.46 0.54]\n",
      " [0.9  0.1 ]\n",
      " [0.92 0.08]\n",
      " [0.9  0.1 ]\n",
      " [0.87 0.13]\n",
      " [0.9  0.1 ]\n",
      " [0.13 0.87]\n",
      " [0.9  0.1 ]\n",
      " [0.89 0.11]\n",
      " [0.9  0.1 ]\n",
      " [0.29 0.71]\n",
      " [0.24 0.76]\n",
      " [0.8  0.2 ]\n",
      " [0.9  0.1 ]\n",
      " [0.6  0.4 ]\n",
      " [0.9  0.1 ]\n",
      " [0.31 0.69]\n",
      " [0.88 0.12]\n",
      " [0.68 0.32]\n",
      " [0.87 0.13]\n",
      " [0.06 0.94]\n",
      " [0.19 0.81]\n",
      " [0.89 0.11]\n",
      " [0.12 0.88]\n",
      " [0.79 0.21]\n",
      " [0.81 0.19]\n",
      " [0.77 0.23]\n",
      " [0.79 0.21]\n",
      " [0.31 0.69]\n",
      " [0.6  0.4 ]\n",
      " [0.25 0.75]\n",
      " [0.21 0.79]\n",
      " [0.24 0.76]\n",
      " [0.92 0.08]\n",
      " [0.9  0.1 ]\n",
      " [0.52 0.48]\n",
      " [0.89 0.11]\n",
      " [0.9  0.1 ]\n",
      " [0.6  0.4 ]\n",
      " [0.3  0.7 ]\n",
      " [0.89 0.11]\n",
      " [0.34 0.66]\n",
      " [0.92 0.08]\n",
      " [0.9  0.1 ]\n",
      " [0.14 0.86]\n",
      " [0.9  0.1 ]\n",
      " [0.66 0.34]\n",
      " [0.92 0.08]\n",
      " [0.92 0.08]\n",
      " [0.76 0.24]\n",
      " [0.81 0.19]\n",
      " [0.9  0.1 ]\n",
      " [0.25 0.75]\n",
      " [0.26 0.74]\n",
      " [0.75 0.25]\n",
      " [0.5  0.5 ]\n",
      " [0.78 0.22]\n",
      " [0.46 0.54]\n",
      " [0.88 0.12]\n",
      " [0.89 0.11]\n",
      " [0.9  0.1 ]\n",
      " [0.3  0.7 ]\n",
      " [0.16 0.84]\n",
      " [0.21 0.79]\n",
      " [0.63 0.37]\n",
      " [0.75 0.25]\n",
      " [0.9  0.1 ]\n",
      " [0.81 0.19]\n",
      " [0.9  0.1 ]\n",
      " [0.89 0.11]\n",
      " [0.79 0.21]\n",
      " [0.66 0.34]\n",
      " [0.09 0.91]\n",
      " [0.9  0.1 ]\n",
      " [0.2  0.8 ]\n",
      " [0.68 0.32]\n",
      " [0.77 0.23]\n",
      " [0.79 0.21]\n",
      " [0.4  0.6 ]\n",
      " [0.68 0.32]\n",
      " [0.89 0.11]\n",
      " [0.35 0.65]\n",
      " [0.9  0.1 ]\n",
      " [0.66 0.34]\n",
      " [0.83 0.17]\n",
      " [0.93 0.07]\n",
      " [0.79 0.21]\n",
      " [0.54 0.46]\n",
      " [0.75 0.25]\n",
      " [0.92 0.08]\n",
      " [1.   0.  ]\n",
      " [0.11 0.89]\n",
      " [0.6  0.4 ]\n",
      " [0.26 0.74]\n",
      " [0.79 0.21]\n",
      " [0.44 0.56]\n",
      " [0.79 0.21]\n",
      " [0.19 0.81]\n",
      " [0.11 0.89]\n",
      " [0.79 0.21]\n",
      " [0.75 0.25]\n",
      " [0.93 0.07]\n",
      " [0.32 0.68]\n",
      " [0.76 0.24]\n",
      " [0.26 0.74]\n",
      " [0.9  0.1 ]\n",
      " [0.87 0.13]\n",
      " [0.4  0.6 ]\n",
      " [0.98 0.02]\n",
      " [0.22 0.78]\n",
      " [0.27 0.73]\n",
      " [0.9  0.1 ]\n",
      " [0.07 0.93]\n",
      " [0.97 0.03]\n",
      " [0.85 0.15]\n",
      " [0.31 0.69]\n",
      " [0.11 0.89]\n",
      " [0.8  0.2 ]\n",
      " [0.73 0.27]\n",
      " [0.07 0.93]\n",
      " [0.76 0.24]\n",
      " [0.86 0.14]\n",
      " [0.21 0.79]\n",
      " [0.08 0.92]\n",
      " [0.33 0.67]\n",
      " [0.79 0.21]\n",
      " [0.76 0.24]\n",
      " [0.9  0.1 ]\n",
      " [0.87 0.13]\n",
      " [0.87 0.13]\n",
      " [0.48 0.52]\n",
      " [0.29 0.71]\n",
      " [0.79 0.21]\n",
      " [0.24 0.76]\n",
      " [0.9  0.1 ]\n",
      " [0.89 0.11]\n",
      " [0.87 0.13]\n",
      " [0.78 0.22]\n",
      " [0.6  0.4 ]\n",
      " [0.15 0.85]\n",
      " [0.66 0.34]\n",
      " [0.86 0.14]\n",
      " [0.97 0.03]\n",
      " [0.06 0.94]\n",
      " [0.87 0.13]\n",
      " [0.19 0.81]\n",
      " [0.9  0.1 ]\n",
      " [0.9  0.1 ]\n",
      " [0.08 0.92]\n",
      " [0.77 0.23]\n",
      " [0.04 0.96]\n",
      " [0.54 0.46]\n",
      " [0.6  0.4 ]\n",
      " [0.76 0.24]\n",
      " [0.73 0.27]\n",
      " [0.71 0.29]\n",
      " [0.25 0.75]\n",
      " [0.24 0.76]\n",
      " [0.25 0.75]\n",
      " [0.08 0.92]\n",
      " [0.31 0.69]\n",
      " [0.9  0.1 ]\n",
      " [0.03 0.97]\n",
      " [0.94 0.06]\n",
      " [0.9  0.1 ]\n",
      " [0.57 0.43]]\n"
     ]
    }
   ],
   "source": [
    "import numpy as np\n",
    "# proba = classifier.predict_proba(X_test[:5])\n",
    "proba = classifier.predict_proba(test) #test_df.csv 파일로 확인\n",
    "print(np.round(proba, decimals=2))"
   ]
  },
  {
   "attachments": {},
   "cell_type": "markdown",
   "metadata": {},
   "source": [
    "### 테스트 데이터 결과 확인"
   ]
  },
  {
   "cell_type": "code",
   "execution_count": 34,
   "metadata": {},
   "outputs": [
    {
     "name": "stdout",
     "output_type": "stream",
     "text": [
      "[0.59954958 0.40045042]\n"
     ]
    }
   ],
   "source": [
    "print(proba.mean(axis=0))"
   ]
  },
  {
   "attachments": {},
   "cell_type": "markdown",
   "metadata": {},
   "source": [
    "- 418명 중 사망자 약 60%, 생존자 40%"
   ]
  },
  {
   "attachments": {},
   "cell_type": "markdown",
   "metadata": {},
   "source": [
    "### K-평균 알고리즘으로 클러스터 찾기"
   ]
  },
  {
   "cell_type": "code",
   "execution_count": 36,
   "metadata": {},
   "outputs": [
    {
     "name": "stdout",
     "output_type": "stream",
     "text": [
      "(array([0, 1]), array([258, 160], dtype=int64))\n"
     ]
    }
   ],
   "source": [
    "from sklearn.cluster import KMeans\n",
    "km = KMeans(n_clusters=2)\n",
    "km.fit(proba)\n",
    "print(np.unique(km.labels_, return_counts=True))"
   ]
  },
  {
   "attachments": {},
   "cell_type": "markdown",
   "metadata": {},
   "source": [
    "- 사망자 258명, 생존자 160명으로 테스트 데이터 퍼센트와 거의 일치함"
   ]
  },
  {
   "attachments": {},
   "cell_type": "markdown",
   "metadata": {},
   "source": [
    "### ※. 생존 여부 추가하여 CSV로 저장"
   ]
  },
  {
   "cell_type": "code",
   "execution_count": 37,
   "metadata": {},
   "outputs": [],
   "source": [
    "test_copy = test_original.copy()"
   ]
  },
  {
   "cell_type": "code",
   "execution_count": 38,
   "metadata": {},
   "outputs": [
    {
     "name": "stdout",
     "output_type": "stream",
     "text": [
      "     PassengerId  Pclass                                          Name  \\\n",
      "0            892       3                              Kelly, Mr. James   \n",
      "1            893       3              Wilkes, Mrs. James (Ellen Needs)   \n",
      "2            894       2                     Myles, Mr. Thomas Francis   \n",
      "3            895       3                              Wirz, Mr. Albert   \n",
      "4            896       3  Hirvonen, Mrs. Alexander (Helga E Lindqvist)   \n",
      "..           ...     ...                                           ...   \n",
      "413         1305       3                            Spector, Mr. Woolf   \n",
      "414         1306       1                  Oliva y Ocana, Dona. Fermina   \n",
      "415         1307       3                  Saether, Mr. Simon Sivertsen   \n",
      "416         1308       3                           Ware, Mr. Frederick   \n",
      "417         1309       3                      Peter, Master. Michael J   \n",
      "\n",
      "        Sex   Age  SibSp  Parch              Ticket      Fare Cabin Embarked  \n",
      "0      male  34.5      0      0              330911    7.8292   NaN        Q  \n",
      "1    female  47.0      1      0              363272    7.0000   NaN        S  \n",
      "2      male  62.0      0      0              240276    9.6875   NaN        Q  \n",
      "3      male  27.0      0      0              315154    8.6625   NaN        S  \n",
      "4    female  22.0      1      1             3101298   12.2875   NaN        S  \n",
      "..      ...   ...    ...    ...                 ...       ...   ...      ...  \n",
      "413    male   NaN      0      0           A.5. 3236    8.0500   NaN        S  \n",
      "414  female  39.0      0      0            PC 17758  108.9000  C105        C  \n",
      "415    male  38.5      0      0  SOTON/O.Q. 3101262    7.2500   NaN        S  \n",
      "416    male   NaN      0      0              359309    8.0500   NaN        S  \n",
      "417    male   NaN      1      1                2668   22.3583   NaN        C  \n",
      "\n",
      "[418 rows x 11 columns]\n"
     ]
    }
   ],
   "source": [
    "print(test_copy)"
   ]
  },
  {
   "cell_type": "code",
   "execution_count": 39,
   "metadata": {},
   "outputs": [
    {
     "name": "stdout",
     "output_type": "stream",
     "text": [
      "[0. 1. 0. 0. 1. 0. 1. 0. 1. 0. 0. 0. 1. 0. 1. 1. 0. 0. 1. 0. 0. 1. 1. 1.\n",
      " 1. 0. 1. 0. 0. 0. 0. 0. 0. 0. 0. 0. 1. 1. 0. 0. 0. 0. 0. 1. 1. 0. 0. 0.\n",
      " 1. 0. 0. 0. 1. 1. 0. 0. 0. 0. 0. 1. 0. 0. 0. 1. 1. 1. 1. 0. 0. 0. 1. 0.\n",
      " 1. 0. 1. 0. 0. 1. 0. 1. 0. 0. 0. 0. 0. 0. 1. 1. 1. 1. 1. 0. 1. 0. 0. 0.\n",
      " 1. 0. 1. 0. 1. 0. 0. 0. 1. 0. 0. 0. 0. 0. 0. 1. 1. 1. 1. 0. 0. 1. 0. 1.\n",
      " 1. 0. 1. 0. 0. 1. 0. 1. 0. 0. 0. 1. 0. 0. 0. 0. 0. 0. 1. 0. 0. 1. 0. 0.\n",
      " 0. 0. 0. 0. 0. 1. 1. 0. 0. 0. 0. 0. 1. 1. 0. 1. 1. 0. 1. 0. 1. 1. 0. 0.\n",
      " 1. 1. 0. 0. 0. 0. 0. 1. 1. 0. 1. 1. 0. 0. 1. 0. 1. 0. 1. 0. 0. 0. 0. 0.\n",
      " 0. 0. 1. 0. 1. 1. 0. 1. 1. 0. 1. 1. 0. 0. 1. 0. 1. 0. 0. 0. 0. 1. 0. 0.\n",
      " 1. 0. 1. 0. 1. 0. 1. 0. 1. 1. 0. 1. 0. 0. 0. 1. 0. 0. 0. 0. 0. 0. 1. 1.\n",
      " 1. 1. 0. 0. 0. 0. 1. 0. 1. 1. 1. 0. 1. 0. 0. 0. 0. 0. 1. 0. 0. 0. 1. 1.\n",
      " 0. 0. 0. 0. 1. 0. 0. 0. 1. 1. 0. 1. 0. 0. 0. 0. 1. 0. 1. 1. 1. 0. 0. 0.\n",
      " 0. 0. 0. 1. 0. 1. 0. 0. 1. 0. 0. 0. 0. 0. 0. 0. 1. 1. 0. 1. 0. 1. 0. 0.\n",
      " 0. 1. 1. 1. 0. 0. 0. 0. 0. 0. 0. 0. 1. 0. 1. 0. 0. 0. 1. 0. 0. 1. 0. 0.\n",
      " 0. 0. 0. 0. 0. 0. 0. 1. 0. 1. 0. 1. 0. 1. 1. 0. 0. 0. 1. 0. 1. 0. 0. 1.\n",
      " 0. 1. 1. 0. 1. 0. 0. 1. 1. 0. 0. 1. 0. 0. 1. 1. 1. 0. 0. 0. 0. 0. 1. 1.\n",
      " 0. 1. 0. 0. 0. 0. 0. 1. 0. 0. 0. 1. 0. 1. 0. 0. 1. 0. 1. 0. 0. 0. 0. 0.\n",
      " 1. 1. 1. 1. 1. 0. 1. 0. 0. 0.]\n"
     ]
    }
   ],
   "source": [
    "print(np.round(proba[:,1])) # proba의 두번째 내용이 실제 생존여부(0: 사망, 1: 생존)"
   ]
  },
  {
   "cell_type": "code",
   "execution_count": 40,
   "metadata": {},
   "outputs": [],
   "source": [
    "test_copy.insert(1, 'Survived', np.round(proba[:,1])) # Survived 컬럼 추가"
   ]
  },
  {
   "cell_type": "code",
   "execution_count": 41,
   "metadata": {},
   "outputs": [
    {
     "name": "stdout",
     "output_type": "stream",
     "text": [
      "     PassengerId  Survived  Pclass  \\\n",
      "0            892       0.0       3   \n",
      "1            893       1.0       3   \n",
      "2            894       0.0       2   \n",
      "3            895       0.0       3   \n",
      "4            896       1.0       3   \n",
      "..           ...       ...     ...   \n",
      "413         1305       0.0       3   \n",
      "414         1306       1.0       1   \n",
      "415         1307       0.0       3   \n",
      "416         1308       0.0       3   \n",
      "417         1309       0.0       3   \n",
      "\n",
      "                                             Name     Sex   Age  SibSp  Parch  \\\n",
      "0                                Kelly, Mr. James    male  34.5      0      0   \n",
      "1                Wilkes, Mrs. James (Ellen Needs)  female  47.0      1      0   \n",
      "2                       Myles, Mr. Thomas Francis    male  62.0      0      0   \n",
      "3                                Wirz, Mr. Albert    male  27.0      0      0   \n",
      "4    Hirvonen, Mrs. Alexander (Helga E Lindqvist)  female  22.0      1      1   \n",
      "..                                            ...     ...   ...    ...    ...   \n",
      "413                            Spector, Mr. Woolf    male   NaN      0      0   \n",
      "414                  Oliva y Ocana, Dona. Fermina  female  39.0      0      0   \n",
      "415                  Saether, Mr. Simon Sivertsen    male  38.5      0      0   \n",
      "416                           Ware, Mr. Frederick    male   NaN      0      0   \n",
      "417                      Peter, Master. Michael J    male   NaN      1      1   \n",
      "\n",
      "                 Ticket      Fare Cabin Embarked  \n",
      "0                330911    7.8292   NaN        Q  \n",
      "1                363272    7.0000   NaN        S  \n",
      "2                240276    9.6875   NaN        Q  \n",
      "3                315154    8.6625   NaN        S  \n",
      "4               3101298   12.2875   NaN        S  \n",
      "..                  ...       ...   ...      ...  \n",
      "413           A.5. 3236    8.0500   NaN        S  \n",
      "414            PC 17758  108.9000  C105        C  \n",
      "415  SOTON/O.Q. 3101262    7.2500   NaN        S  \n",
      "416              359309    8.0500   NaN        S  \n",
      "417                2668   22.3583   NaN        C  \n",
      "\n",
      "[418 rows x 12 columns]\n"
     ]
    }
   ],
   "source": [
    "print(test_copy)"
   ]
  },
  {
   "cell_type": "code",
   "execution_count": 42,
   "metadata": {},
   "outputs": [
    {
     "name": "stdout",
     "output_type": "stream",
     "text": [
      "<class 'pandas.core.frame.DataFrame'>\n",
      "RangeIndex: 418 entries, 0 to 417\n",
      "Data columns (total 12 columns):\n",
      " #   Column       Non-Null Count  Dtype  \n",
      "---  ------       --------------  -----  \n",
      " 0   PassengerId  418 non-null    int64  \n",
      " 1   Survived     418 non-null    float64\n",
      " 2   Pclass       418 non-null    int64  \n",
      " 3   Name         418 non-null    object \n",
      " 4   Sex          418 non-null    object \n",
      " 5   Age          332 non-null    float64\n",
      " 6   SibSp        418 non-null    int64  \n",
      " 7   Parch        418 non-null    int64  \n",
      " 8   Ticket       418 non-null    object \n",
      " 9   Fare         417 non-null    float64\n",
      " 10  Cabin        91 non-null     object \n",
      " 11  Embarked     418 non-null    object \n",
      "dtypes: float64(3), int64(4), object(5)\n",
      "memory usage: 39.3+ KB\n"
     ]
    }
   ],
   "source": [
    "test_copy.info()"
   ]
  },
  {
   "cell_type": "code",
   "execution_count": 43,
   "metadata": {},
   "outputs": [],
   "source": [
    "test_copy = test_copy.astype({'Survived':'int64'}) # 데이터형 통일"
   ]
  },
  {
   "cell_type": "code",
   "execution_count": 44,
   "metadata": {},
   "outputs": [
    {
     "data": {
      "text/html": [
       "<div>\n",
       "<style scoped>\n",
       "    .dataframe tbody tr th:only-of-type {\n",
       "        vertical-align: middle;\n",
       "    }\n",
       "\n",
       "    .dataframe tbody tr th {\n",
       "        vertical-align: top;\n",
       "    }\n",
       "\n",
       "    .dataframe thead th {\n",
       "        text-align: right;\n",
       "    }\n",
       "</style>\n",
       "<table border=\"1\" class=\"dataframe\">\n",
       "  <thead>\n",
       "    <tr style=\"text-align: right;\">\n",
       "      <th></th>\n",
       "      <th>PassengerId</th>\n",
       "      <th>Survived</th>\n",
       "      <th>Pclass</th>\n",
       "      <th>Name</th>\n",
       "      <th>Sex</th>\n",
       "      <th>Age</th>\n",
       "      <th>SibSp</th>\n",
       "      <th>Parch</th>\n",
       "      <th>Ticket</th>\n",
       "      <th>Fare</th>\n",
       "      <th>Cabin</th>\n",
       "      <th>Embarked</th>\n",
       "    </tr>\n",
       "  </thead>\n",
       "  <tbody>\n",
       "    <tr>\n",
       "      <th>0</th>\n",
       "      <td>892</td>\n",
       "      <td>0</td>\n",
       "      <td>3</td>\n",
       "      <td>Kelly, Mr. James</td>\n",
       "      <td>male</td>\n",
       "      <td>34.5</td>\n",
       "      <td>0</td>\n",
       "      <td>0</td>\n",
       "      <td>330911</td>\n",
       "      <td>7.8292</td>\n",
       "      <td>NaN</td>\n",
       "      <td>Q</td>\n",
       "    </tr>\n",
       "    <tr>\n",
       "      <th>1</th>\n",
       "      <td>893</td>\n",
       "      <td>1</td>\n",
       "      <td>3</td>\n",
       "      <td>Wilkes, Mrs. James (Ellen Needs)</td>\n",
       "      <td>female</td>\n",
       "      <td>47.0</td>\n",
       "      <td>1</td>\n",
       "      <td>0</td>\n",
       "      <td>363272</td>\n",
       "      <td>7.0000</td>\n",
       "      <td>NaN</td>\n",
       "      <td>S</td>\n",
       "    </tr>\n",
       "    <tr>\n",
       "      <th>2</th>\n",
       "      <td>894</td>\n",
       "      <td>0</td>\n",
       "      <td>2</td>\n",
       "      <td>Myles, Mr. Thomas Francis</td>\n",
       "      <td>male</td>\n",
       "      <td>62.0</td>\n",
       "      <td>0</td>\n",
       "      <td>0</td>\n",
       "      <td>240276</td>\n",
       "      <td>9.6875</td>\n",
       "      <td>NaN</td>\n",
       "      <td>Q</td>\n",
       "    </tr>\n",
       "    <tr>\n",
       "      <th>3</th>\n",
       "      <td>895</td>\n",
       "      <td>0</td>\n",
       "      <td>3</td>\n",
       "      <td>Wirz, Mr. Albert</td>\n",
       "      <td>male</td>\n",
       "      <td>27.0</td>\n",
       "      <td>0</td>\n",
       "      <td>0</td>\n",
       "      <td>315154</td>\n",
       "      <td>8.6625</td>\n",
       "      <td>NaN</td>\n",
       "      <td>S</td>\n",
       "    </tr>\n",
       "    <tr>\n",
       "      <th>4</th>\n",
       "      <td>896</td>\n",
       "      <td>1</td>\n",
       "      <td>3</td>\n",
       "      <td>Hirvonen, Mrs. Alexander (Helga E Lindqvist)</td>\n",
       "      <td>female</td>\n",
       "      <td>22.0</td>\n",
       "      <td>1</td>\n",
       "      <td>1</td>\n",
       "      <td>3101298</td>\n",
       "      <td>12.2875</td>\n",
       "      <td>NaN</td>\n",
       "      <td>S</td>\n",
       "    </tr>\n",
       "  </tbody>\n",
       "</table>\n",
       "</div>"
      ],
      "text/plain": [
       "   PassengerId  Survived  Pclass  \\\n",
       "0          892         0       3   \n",
       "1          893         1       3   \n",
       "2          894         0       2   \n",
       "3          895         0       3   \n",
       "4          896         1       3   \n",
       "\n",
       "                                           Name     Sex   Age  SibSp  Parch  \\\n",
       "0                              Kelly, Mr. James    male  34.5      0      0   \n",
       "1              Wilkes, Mrs. James (Ellen Needs)  female  47.0      1      0   \n",
       "2                     Myles, Mr. Thomas Francis    male  62.0      0      0   \n",
       "3                              Wirz, Mr. Albert    male  27.0      0      0   \n",
       "4  Hirvonen, Mrs. Alexander (Helga E Lindqvist)  female  22.0      1      1   \n",
       "\n",
       "    Ticket     Fare Cabin Embarked  \n",
       "0   330911   7.8292   NaN        Q  \n",
       "1   363272   7.0000   NaN        S  \n",
       "2   240276   9.6875   NaN        Q  \n",
       "3   315154   8.6625   NaN        S  \n",
       "4  3101298  12.2875   NaN        S  "
      ]
     },
     "execution_count": 44,
     "metadata": {},
     "output_type": "execute_result"
    }
   ],
   "source": [
    "test_copy.head()"
   ]
  },
  {
   "cell_type": "code",
   "execution_count": 46,
   "metadata": {},
   "outputs": [],
   "source": [
    "# csv 파일로 저장\n",
    "test_copy.to_csv('./datas/test_survived.csv', index=None)"
   ]
  }
 ],
 "metadata": {
  "kernelspec": {
   "display_name": "base",
   "language": "python",
   "name": "python3"
  },
  "language_info": {
   "codemirror_mode": {
    "name": "ipython",
    "version": 3
   },
   "file_extension": ".py",
   "mimetype": "text/x-python",
   "name": "python",
   "nbconvert_exporter": "python",
   "pygments_lexer": "ipython3",
   "version": "3.9.15"
  },
  "orig_nbformat": 4,
  "vscode": {
   "interpreter": {
    "hash": "2a866c99605a64ff6a27a3bc77831e88ac26321d22efe31169d14f97d30d153e"
   }
  }
 },
 "nbformat": 4,
 "nbformat_minor": 2
}
